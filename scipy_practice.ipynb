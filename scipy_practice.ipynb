{
  "nbformat": 4,
  "nbformat_minor": 0,
  "metadata": {
    "colab": {
      "name": "scipy.ipynb",
      "provenance": [],
      "authorship_tag": "ABX9TyOJQUmPvjfGyIituilOrWat",
      "include_colab_link": true
    },
    "kernelspec": {
      "name": "python3",
      "display_name": "Python 3"
    },
    "language_info": {
      "name": "python"
    }
  },
  "cells": [
    {
      "cell_type": "markdown",
      "metadata": {
        "id": "view-in-github",
        "colab_type": "text"
      },
      "source": [
        "<a href=\"https://colab.research.google.com/github/yui-miffy/Python/blob/main/scipy_practice.ipynb\" target=\"_parent\"><img src=\"https://colab.research.google.com/assets/colab-badge.svg\" alt=\"Open In Colab\"/></a>"
      ]
    },
    {
      "cell_type": "code",
      "metadata": {
        "id": "BEVknHK7bmSV"
      },
      "source": [
        "#線形代数用のライブラリ\n",
        "import scipy.linalg as linalg\n",
        "\n",
        "#最適化計算(最小値)用の関数\n",
        "from scipy.optimize import minimize_scalar"
      ],
      "execution_count": 3,
      "outputs": []
    },
    {
      "cell_type": "code",
      "metadata": {
        "colab": {
          "base_uri": "https://localhost:8080/"
        },
        "id": "V7NwUucvc1tQ",
        "outputId": "2f641dfb-53c4-403e-8a87-a2c2f71b1c6c"
      },
      "source": [
        "import numpy as np\n",
        "matrix=np.array ([[1,-1,-1],[-1,1,-1],[-1,-1,1]])\n",
        "\n",
        "#行列式\n",
        "print(\"行列式\")\n",
        "print(linalg.det(matrix))"
      ],
      "execution_count": 9,
      "outputs": [
        {
          "output_type": "stream",
          "name": "stdout",
          "text": [
            "行列式\n",
            "-4.0\n"
          ]
        }
      ]
    },
    {
      "cell_type": "code",
      "metadata": {
        "colab": {
          "base_uri": "https://localhost:8080/"
        },
        "id": "c8qxdiuddobM",
        "outputId": "5e06f1a6-db84-4530-bc96-598220b2d6a3"
      },
      "source": [
        "#関数の定義\n",
        "def my_function(x):\n",
        "  return (x**2 + 2*x +1)\n",
        "\n",
        "#ニュートン法の読み込み\n",
        "from scipy.optimize import newton\n",
        "\n",
        "#計算実行\n",
        "print(newton(my_function,0))\n",
        "\n",
        "#計算実行\n",
        "print(minimize_scalar(my_function,method=\"Brent\"))\n"
      ],
      "execution_count": 12,
      "outputs": [
        {
          "output_type": "stream",
          "name": "stdout",
          "text": [
            "-0.9999999852953906\n",
            "     fun: 0.0\n",
            "    nfev: 9\n",
            "     nit: 4\n",
            " success: True\n",
            "       x: -1.0000000000000002\n"
          ]
        }
      ]
    },
    {
      "cell_type": "code",
      "metadata": {
        "id": "LDYrarl2f-t2"
      },
      "source": [
        ""
      ],
      "execution_count": null,
      "outputs": []
    }
  ]
}