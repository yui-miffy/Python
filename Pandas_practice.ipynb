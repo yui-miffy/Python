{
  "nbformat": 4,
  "nbformat_minor": 0,
  "metadata": {
    "colab": {
      "name": "Pandas_practice.ipynb",
      "provenance": [],
      "authorship_tag": "ABX9TyPs03phVFhAQm8J8fZ4QZH1",
      "include_colab_link": true
    },
    "kernelspec": {
      "name": "python3",
      "display_name": "Python 3"
    },
    "language_info": {
      "name": "python"
    }
  },
  "cells": [
    {
      "cell_type": "markdown",
      "metadata": {
        "id": "view-in-github",
        "colab_type": "text"
      },
      "source": [
        "<a href=\"https://colab.research.google.com/github/yui-miffy/Python/blob/main/Pandas_practice.ipynb\" target=\"_parent\"><img src=\"https://colab.research.google.com/assets/colab-badge.svg\" alt=\"Open In Colab\"/></a>"
      ]
    },
    {
      "cell_type": "code",
      "metadata": {
        "colab": {
          "base_uri": "https://localhost:8080/"
        },
        "id": "RsPeTv4Nh7Lw",
        "outputId": "a27d3d53-22af-477f-9800-3daee529ed86"
      },
      "source": [
        "from pandas import Series,DataFrame\n",
        "import pandas as pd\n",
        "\n",
        "#Series\n",
        "sample_pandas_data=pd.Series([0,10,20,30,40,50,60,70,80,90])\n",
        "print(sample_pandas_data)"
      ],
      "execution_count": 4,
      "outputs": [
        {
          "output_type": "stream",
          "name": "stdout",
          "text": [
            "0     0\n",
            "1    10\n",
            "2    20\n",
            "3    30\n",
            "4    40\n",
            "5    50\n",
            "6    60\n",
            "7    70\n",
            "8    80\n",
            "9    90\n",
            "dtype: int64\n"
          ]
        }
      ]
    },
    {
      "cell_type": "code",
      "metadata": {
        "colab": {
          "base_uri": "https://localhost:8080/"
        },
        "id": "sF-_FY3Oienl",
        "outputId": "5459faee-96d7-4fce-8940-4a94155def1c"
      },
      "source": [
        "attri_data1={\"ID\":[\"100\",\"101\",\"102\",\"103\",\"104\"],\n",
        "            \"City\":[\"Tokyo\",\"Chiba\",\"Saitama\",\"Ibaraki\",\"Tochigi\"],\n",
        "            \"Birth_year\":[1996,1991,1992,1993,1994],\n",
        "            \"Name\":[\"Yui\",\"Mai\",\"Ai\",\"Mei\",\"Mii\"]}\n",
        "\n",
        "attri_data_frame1=DataFrame(attri_data1)\n",
        "print(attri_data_frame1)"
      ],
      "execution_count": 17,
      "outputs": [
        {
          "output_type": "stream",
          "name": "stdout",
          "text": [
            "    ID     City  Birth_year Name\n",
            "0  100    Tokyo        1996  Yui\n",
            "1  101    Chiba        1991  Mai\n",
            "2  102  Saitama        1992   Ai\n",
            "3  103  Ibaraki        1993  Mei\n",
            "4  104  Tochigi        1994  Mii\n"
          ]
        }
      ]
    },
    {
      "cell_type": "code",
      "metadata": {
        "id": "d6E6h42uoOwu"
      },
      "source": [
        ""
      ],
      "execution_count": null,
      "outputs": []
    }
  ]
}