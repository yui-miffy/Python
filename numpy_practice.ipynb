{
  "nbformat": 4,
  "nbformat_minor": 0,
  "metadata": {
    "colab": {
      "name": "numpy_practice.ipynb",
      "provenance": [],
      "authorship_tag": "ABX9TyO89e0eOyROnXf3r7tDoB84",
      "include_colab_link": true
    },
    "kernelspec": {
      "name": "python3",
      "display_name": "Python 3"
    },
    "language_info": {
      "name": "python"
    }
  },
  "cells": [
    {
      "cell_type": "markdown",
      "metadata": {
        "id": "view-in-github",
        "colab_type": "text"
      },
      "source": [
        "<a href=\"https://colab.research.google.com/github/yui-miffy/Python/blob/main/numpy_practice.ipynb\" target=\"_parent\"><img src=\"https://colab.research.google.com/assets/colab-badge.svg\" alt=\"Open In Colab\"/></a>"
      ]
    },
    {
      "cell_type": "code",
      "metadata": {
        "colab": {
          "base_uri": "https://localhost:8080/"
        },
        "id": "SyiWsiyk8eos",
        "outputId": "56913f2d-84f1-4dc7-e176-435be8d9cccf"
      },
      "source": [
        "#配列\n",
        "import numpy as np\n",
        "data=np.array([9,2,3,4,10,6,7,8,1,5])\n",
        "data\n"
      ],
      "execution_count": 2,
      "outputs": [
        {
          "output_type": "execute_result",
          "data": {
            "text/plain": [
              "array([ 9,  2,  3,  4, 10,  6,  7,  8,  1,  5])"
            ]
          },
          "metadata": {},
          "execution_count": 2
        }
      ]
    },
    {
      "cell_type": "code",
      "metadata": {
        "colab": {
          "base_uri": "https://localhost:8080/"
        },
        "id": "XECrm4neTwg8",
        "outputId": "a3df149c-50b2-46ee-ea3b-680671c41f68"
      },
      "source": [
        "#乱数の発生\n",
        "import numpy.random as random\n",
        "random.seed(0)\n",
        "rnd_data=random.randn(10)\n",
        "print(\"乱数10個の配列:\",rnd_data)"
      ],
      "execution_count": 8,
      "outputs": [
        {
          "output_type": "stream",
          "name": "stdout",
          "text": [
            "乱数10個の配列: [ 1.76405235  0.40015721  0.97873798  2.2408932   1.86755799 -0.97727788\n",
            "  0.95008842 -0.15135721 -0.10321885  0.4105985 ]\n"
          ]
        }
      ]
    },
    {
      "cell_type": "code",
      "metadata": {
        "colab": {
          "base_uri": "https://localhost:8080/"
        },
        "id": "YwA8zQ37Uu71",
        "outputId": "330c055a-00a6-478c-943b-82e6dcfb53a9"
      },
      "source": [
        "#抽出対象データ\n",
        "data=np.array([9,2,3,4,10,6,7,8,2,5])\n",
        "#ランダム抽出\n",
        "#10個を抽出(重複あり、復元抽出)\n",
        "print(random.choice(data,10))\n",
        "#10個を抽出(重複なし、非復元抽出)\n",
        "print(random.choice(data,10,replace=False))"
      ],
      "execution_count": 9,
      "outputs": [
        {
          "output_type": "stream",
          "name": "stdout",
          "text": [
            "[ 7  8  8  2  2  6  5  2  5 10]\n",
            "[10  2  7  8  3  2  6  5  9  4]\n"
          ]
        }
      ]
    },
    {
      "cell_type": "code",
      "metadata": {
        "colab": {
          "base_uri": "https://localhost:8080/"
        },
        "id": "U7reod2LXP_x",
        "outputId": "b22d2b53-1bbd-457f-f0a8-d36701ee44c5"
      },
      "source": [
        "np.arange(9)"
      ],
      "execution_count": 11,
      "outputs": [
        {
          "output_type": "execute_result",
          "data": {
            "text/plain": [
              "array([0, 1, 2, 3, 4, 5, 6, 7, 8])"
            ]
          },
          "metadata": {},
          "execution_count": 11
        }
      ]
    },
    {
      "cell_type": "code",
      "metadata": {
        "colab": {
          "base_uri": "https://localhost:8080/"
        },
        "id": "ECXYhLj1XfKF",
        "outputId": "30b386f3-59e0-4f63-c41b-6158cc4d3381"
      },
      "source": [
        "array1=np.arange(9).reshape(3,3)\n",
        "print(array1)"
      ],
      "execution_count": 12,
      "outputs": [
        {
          "output_type": "stream",
          "name": "stdout",
          "text": [
            "[[0 1 2]\n",
            " [3 4 5]\n",
            " [6 7 8]]\n"
          ]
        }
      ]
    },
    {
      "cell_type": "code",
      "metadata": {
        "colab": {
          "base_uri": "https://localhost:8080/"
        },
        "id": "pEO-yafhXygM",
        "outputId": "c779da71-bfb8-40ea-cfdc-70eb0725c72e"
      },
      "source": [
        "array2=np.arange(9,18).reshape(3,3)\n",
        "print(array2)"
      ],
      "execution_count": 14,
      "outputs": [
        {
          "output_type": "stream",
          "name": "stdout",
          "text": [
            "[[ 9 10 11]\n",
            " [12 13 14]\n",
            " [15 16 17]]\n"
          ]
        }
      ]
    },
    {
      "cell_type": "code",
      "metadata": {
        "colab": {
          "base_uri": "https://localhost:8080/"
        },
        "id": "c6ePAzHNYDNQ",
        "outputId": "5c5eb570-a953-47a9-e1ae-5177c4beb274"
      },
      "source": [
        "#行列の積\n",
        "np.dot(array1,array2)"
      ],
      "execution_count": 16,
      "outputs": [
        {
          "output_type": "execute_result",
          "data": {
            "text/plain": [
              "array([[ 42,  45,  48],\n",
              "       [150, 162, 174],\n",
              "       [258, 279, 300]])"
            ]
          },
          "metadata": {},
          "execution_count": 16
        }
      ]
    },
    {
      "cell_type": "code",
      "metadata": {
        "id": "nhLZx6DBYTE9"
      },
      "source": [
        ""
      ],
      "execution_count": null,
      "outputs": []
    }
  ]
}